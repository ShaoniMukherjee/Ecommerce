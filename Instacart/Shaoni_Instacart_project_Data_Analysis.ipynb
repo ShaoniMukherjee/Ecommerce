{
 "cells": [
  {
   "cell_type": "code",
   "execution_count": 1,
   "id": "4e670d67",
   "metadata": {},
   "outputs": [],
   "source": [
    "import numpy as np\n",
    "import pandas as pd\n",
    "pd.set_option('max_columns', 150)\n",
    "import os\n",
    "\n",
    "# matplotlib and seaborn for plotting\n",
    "import matplotlib\n",
    "matplotlib.rcParams['figure.dpi'] = 120 #resolution\n",
    "matplotlib.rcParams['figure.figsize'] = (8,6) #figure size\n",
    "\n",
    "import matplotlib.pyplot as plt\n",
    "\n",
    "import seaborn as sns\n",
    "sns.set_style('darkgrid')\n",
    "color = sns.color_palette()"
   ]
  },
  {
   "cell_type": "code",
   "execution_count": 2,
   "id": "ae27f548",
   "metadata": {},
   "outputs": [],
   "source": [
    "aisles = pd.read_csv('aisles.csv')\n",
    "departments = pd.read_csv('departments.csv')\n",
    "orders = pd.read_csv('orders.csv')\n",
    "order_products_prior = pd.read_csv('order_products__prior.csv')\n",
    "order_products_train = pd.read_csv('order_products__train.csv')\n",
    "products = pd.read_csv('products.csv')"
   ]
  },
  {
   "cell_type": "code",
   "execution_count": 3,
   "id": "c7637aab",
   "metadata": {},
   "outputs": [
    {
     "data": {
      "text/html": [
       "<div>\n",
       "<style scoped>\n",
       "    .dataframe tbody tr th:only-of-type {\n",
       "        vertical-align: middle;\n",
       "    }\n",
       "\n",
       "    .dataframe tbody tr th {\n",
       "        vertical-align: top;\n",
       "    }\n",
       "\n",
       "    .dataframe thead th {\n",
       "        text-align: right;\n",
       "    }\n",
       "</style>\n",
       "<table border=\"1\" class=\"dataframe\">\n",
       "  <thead>\n",
       "    <tr style=\"text-align: right;\">\n",
       "      <th></th>\n",
       "      <th>aisle_id</th>\n",
       "      <th>aisle</th>\n",
       "    </tr>\n",
       "  </thead>\n",
       "  <tbody>\n",
       "    <tr>\n",
       "      <th>0</th>\n",
       "      <td>1</td>\n",
       "      <td>prepared soups salads</td>\n",
       "    </tr>\n",
       "    <tr>\n",
       "      <th>1</th>\n",
       "      <td>2</td>\n",
       "      <td>specialty cheeses</td>\n",
       "    </tr>\n",
       "    <tr>\n",
       "      <th>2</th>\n",
       "      <td>3</td>\n",
       "      <td>energy granola bars</td>\n",
       "    </tr>\n",
       "    <tr>\n",
       "      <th>3</th>\n",
       "      <td>4</td>\n",
       "      <td>instant foods</td>\n",
       "    </tr>\n",
       "    <tr>\n",
       "      <th>4</th>\n",
       "      <td>5</td>\n",
       "      <td>marinades meat preparation</td>\n",
       "    </tr>\n",
       "  </tbody>\n",
       "</table>\n",
       "</div>"
      ],
      "text/plain": [
       "   aisle_id                       aisle\n",
       "0         1       prepared soups salads\n",
       "1         2           specialty cheeses\n",
       "2         3         energy granola bars\n",
       "3         4               instant foods\n",
       "4         5  marinades meat preparation"
      ]
     },
     "execution_count": 3,
     "metadata": {},
     "output_type": "execute_result"
    }
   ],
   "source": [
    "aisles.head()"
   ]
  },
  {
   "cell_type": "code",
   "execution_count": 4,
   "id": "7385bd41",
   "metadata": {},
   "outputs": [
    {
     "data": {
      "text/plain": [
       "(134, 2)"
      ]
     },
     "execution_count": 4,
     "metadata": {},
     "output_type": "execute_result"
    }
   ],
   "source": [
    "aisles.shape"
   ]
  },
  {
   "cell_type": "code",
   "execution_count": 5,
   "id": "56eee315",
   "metadata": {},
   "outputs": [
    {
     "data": {
      "text/plain": [
       "(   department_id department\n",
       " 0              1     frozen\n",
       " 1              2      other\n",
       " 2              3     bakery\n",
       " 3              4    produce\n",
       " 4              5    alcohol,\n",
       " (21, 2))"
      ]
     },
     "execution_count": 5,
     "metadata": {},
     "output_type": "execute_result"
    }
   ],
   "source": [
    "departments.head(), departments.shape"
   ]
  },
  {
   "cell_type": "code",
   "execution_count": 6,
   "id": "799acf45",
   "metadata": {},
   "outputs": [
    {
     "data": {
      "text/plain": [
       "(   order_id  user_id eval_set  order_number  order_dow  order_hour_of_day  \\\n",
       " 0   2539329        1    prior             1          2                  8   \n",
       " 1   2398795        1    prior             2          3                  7   \n",
       " 2    473747        1    prior             3          3                 12   \n",
       " 3   2254736        1    prior             4          4                  7   \n",
       " 4    431534        1    prior             5          4                 15   \n",
       " \n",
       "    days_since_prior_order  \n",
       " 0                     NaN  \n",
       " 1                    15.0  \n",
       " 2                    21.0  \n",
       " 3                    29.0  \n",
       " 4                    28.0  ,\n",
       " (3421083, 7))"
      ]
     },
     "execution_count": 6,
     "metadata": {},
     "output_type": "execute_result"
    }
   ],
   "source": [
    "orders.head(), orders.shape"
   ]
  },
  {
   "cell_type": "code",
   "execution_count": 7,
   "id": "3f924d25",
   "metadata": {},
   "outputs": [
    {
     "data": {
      "text/html": [
       "<div>\n",
       "<style scoped>\n",
       "    .dataframe tbody tr th:only-of-type {\n",
       "        vertical-align: middle;\n",
       "    }\n",
       "\n",
       "    .dataframe tbody tr th {\n",
       "        vertical-align: top;\n",
       "    }\n",
       "\n",
       "    .dataframe thead th {\n",
       "        text-align: right;\n",
       "    }\n",
       "</style>\n",
       "<table border=\"1\" class=\"dataframe\">\n",
       "  <thead>\n",
       "    <tr style=\"text-align: right;\">\n",
       "      <th></th>\n",
       "      <th>order_id</th>\n",
       "      <th>product_id</th>\n",
       "      <th>add_to_cart_order</th>\n",
       "      <th>reordered</th>\n",
       "    </tr>\n",
       "  </thead>\n",
       "  <tbody>\n",
       "    <tr>\n",
       "      <th>0</th>\n",
       "      <td>2</td>\n",
       "      <td>33120</td>\n",
       "      <td>1</td>\n",
       "      <td>1</td>\n",
       "    </tr>\n",
       "    <tr>\n",
       "      <th>1</th>\n",
       "      <td>2</td>\n",
       "      <td>28985</td>\n",
       "      <td>2</td>\n",
       "      <td>1</td>\n",
       "    </tr>\n",
       "    <tr>\n",
       "      <th>2</th>\n",
       "      <td>2</td>\n",
       "      <td>9327</td>\n",
       "      <td>3</td>\n",
       "      <td>0</td>\n",
       "    </tr>\n",
       "    <tr>\n",
       "      <th>3</th>\n",
       "      <td>2</td>\n",
       "      <td>45918</td>\n",
       "      <td>4</td>\n",
       "      <td>1</td>\n",
       "    </tr>\n",
       "    <tr>\n",
       "      <th>4</th>\n",
       "      <td>2</td>\n",
       "      <td>30035</td>\n",
       "      <td>5</td>\n",
       "      <td>0</td>\n",
       "    </tr>\n",
       "  </tbody>\n",
       "</table>\n",
       "</div>"
      ],
      "text/plain": [
       "   order_id  product_id  add_to_cart_order  reordered\n",
       "0         2       33120                  1          1\n",
       "1         2       28985                  2          1\n",
       "2         2        9327                  3          0\n",
       "3         2       45918                  4          1\n",
       "4         2       30035                  5          0"
      ]
     },
     "execution_count": 7,
     "metadata": {},
     "output_type": "execute_result"
    }
   ],
   "source": [
    "order_products_prior.head()"
   ]
  },
  {
   "cell_type": "code",
   "execution_count": 8,
   "id": "7da8aeb4",
   "metadata": {},
   "outputs": [
    {
     "data": {
      "text/html": [
       "<div>\n",
       "<style scoped>\n",
       "    .dataframe tbody tr th:only-of-type {\n",
       "        vertical-align: middle;\n",
       "    }\n",
       "\n",
       "    .dataframe tbody tr th {\n",
       "        vertical-align: top;\n",
       "    }\n",
       "\n",
       "    .dataframe thead th {\n",
       "        text-align: right;\n",
       "    }\n",
       "</style>\n",
       "<table border=\"1\" class=\"dataframe\">\n",
       "  <thead>\n",
       "    <tr style=\"text-align: right;\">\n",
       "      <th></th>\n",
       "      <th>order_id</th>\n",
       "      <th>product_id</th>\n",
       "      <th>add_to_cart_order</th>\n",
       "      <th>reordered</th>\n",
       "    </tr>\n",
       "  </thead>\n",
       "  <tbody>\n",
       "    <tr>\n",
       "      <th>0</th>\n",
       "      <td>1</td>\n",
       "      <td>49302</td>\n",
       "      <td>1</td>\n",
       "      <td>1</td>\n",
       "    </tr>\n",
       "    <tr>\n",
       "      <th>1</th>\n",
       "      <td>1</td>\n",
       "      <td>11109</td>\n",
       "      <td>2</td>\n",
       "      <td>1</td>\n",
       "    </tr>\n",
       "    <tr>\n",
       "      <th>2</th>\n",
       "      <td>1</td>\n",
       "      <td>10246</td>\n",
       "      <td>3</td>\n",
       "      <td>0</td>\n",
       "    </tr>\n",
       "    <tr>\n",
       "      <th>3</th>\n",
       "      <td>1</td>\n",
       "      <td>49683</td>\n",
       "      <td>4</td>\n",
       "      <td>0</td>\n",
       "    </tr>\n",
       "    <tr>\n",
       "      <th>4</th>\n",
       "      <td>1</td>\n",
       "      <td>43633</td>\n",
       "      <td>5</td>\n",
       "      <td>1</td>\n",
       "    </tr>\n",
       "  </tbody>\n",
       "</table>\n",
       "</div>"
      ],
      "text/plain": [
       "   order_id  product_id  add_to_cart_order  reordered\n",
       "0         1       49302                  1          1\n",
       "1         1       11109                  2          1\n",
       "2         1       10246                  3          0\n",
       "3         1       49683                  4          0\n",
       "4         1       43633                  5          1"
      ]
     },
     "execution_count": 8,
     "metadata": {},
     "output_type": "execute_result"
    }
   ],
   "source": [
    "order_products_train.head()"
   ]
  },
  {
   "cell_type": "code",
   "execution_count": 9,
   "id": "2d344c8e",
   "metadata": {},
   "outputs": [
    {
     "data": {
      "text/html": [
       "<div>\n",
       "<style scoped>\n",
       "    .dataframe tbody tr th:only-of-type {\n",
       "        vertical-align: middle;\n",
       "    }\n",
       "\n",
       "    .dataframe tbody tr th {\n",
       "        vertical-align: top;\n",
       "    }\n",
       "\n",
       "    .dataframe thead th {\n",
       "        text-align: right;\n",
       "    }\n",
       "</style>\n",
       "<table border=\"1\" class=\"dataframe\">\n",
       "  <thead>\n",
       "    <tr style=\"text-align: right;\">\n",
       "      <th></th>\n",
       "      <th>product_id</th>\n",
       "      <th>product_name</th>\n",
       "      <th>aisle_id</th>\n",
       "      <th>department_id</th>\n",
       "    </tr>\n",
       "  </thead>\n",
       "  <tbody>\n",
       "    <tr>\n",
       "      <th>0</th>\n",
       "      <td>1</td>\n",
       "      <td>Chocolate Sandwich Cookies</td>\n",
       "      <td>61</td>\n",
       "      <td>19</td>\n",
       "    </tr>\n",
       "    <tr>\n",
       "      <th>1</th>\n",
       "      <td>2</td>\n",
       "      <td>All-Seasons Salt</td>\n",
       "      <td>104</td>\n",
       "      <td>13</td>\n",
       "    </tr>\n",
       "    <tr>\n",
       "      <th>2</th>\n",
       "      <td>3</td>\n",
       "      <td>Robust Golden Unsweetened Oolong Tea</td>\n",
       "      <td>94</td>\n",
       "      <td>7</td>\n",
       "    </tr>\n",
       "    <tr>\n",
       "      <th>3</th>\n",
       "      <td>4</td>\n",
       "      <td>Smart Ones Classic Favorites Mini Rigatoni Wit...</td>\n",
       "      <td>38</td>\n",
       "      <td>1</td>\n",
       "    </tr>\n",
       "    <tr>\n",
       "      <th>4</th>\n",
       "      <td>5</td>\n",
       "      <td>Green Chile Anytime Sauce</td>\n",
       "      <td>5</td>\n",
       "      <td>13</td>\n",
       "    </tr>\n",
       "  </tbody>\n",
       "</table>\n",
       "</div>"
      ],
      "text/plain": [
       "   product_id                                       product_name  aisle_id  \\\n",
       "0           1                         Chocolate Sandwich Cookies        61   \n",
       "1           2                                   All-Seasons Salt       104   \n",
       "2           3               Robust Golden Unsweetened Oolong Tea        94   \n",
       "3           4  Smart Ones Classic Favorites Mini Rigatoni Wit...        38   \n",
       "4           5                          Green Chile Anytime Sauce         5   \n",
       "\n",
       "   department_id  \n",
       "0             19  \n",
       "1             13  \n",
       "2              7  \n",
       "3              1  \n",
       "4             13  "
      ]
     },
     "execution_count": 9,
     "metadata": {},
     "output_type": "execute_result"
    }
   ],
   "source": [
    "products.head()"
   ]
  },
  {
   "cell_type": "code",
   "execution_count": 10,
   "id": "08c2484b",
   "metadata": {},
   "outputs": [
    {
     "data": {
      "text/plain": [
       "array(['frozen', 'other', 'bakery', 'produce', 'alcohol', 'international',\n",
       "       'beverages', 'pets', 'dry goods pasta', 'bulk', 'personal care',\n",
       "       'meat seafood', 'pantry', 'breakfast', 'canned goods',\n",
       "       'dairy eggs', 'household', 'babies', 'snacks', 'deli', 'missing'],\n",
       "      dtype=object)"
      ]
     },
     "execution_count": 10,
     "metadata": {},
     "output_type": "execute_result"
    }
   ],
   "source": [
    "departments.department.unique()"
   ]
  },
  {
   "cell_type": "code",
   "execution_count": 11,
   "id": "8ba282bf",
   "metadata": {},
   "outputs": [
    {
     "data": {
      "text/plain": [
       "134"
      ]
     },
     "execution_count": 11,
     "metadata": {},
     "output_type": "execute_result"
    }
   ],
   "source": [
    "len(aisles.aisle.unique())"
   ]
  },
  {
   "cell_type": "code",
   "execution_count": 12,
   "id": "bb68efef",
   "metadata": {},
   "outputs": [
    {
     "data": {
      "text/html": [
       "<div>\n",
       "<style scoped>\n",
       "    .dataframe tbody tr th:only-of-type {\n",
       "        vertical-align: middle;\n",
       "    }\n",
       "\n",
       "    .dataframe tbody tr th {\n",
       "        vertical-align: top;\n",
       "    }\n",
       "\n",
       "    .dataframe thead th {\n",
       "        text-align: right;\n",
       "    }\n",
       "</style>\n",
       "<table border=\"1\" class=\"dataframe\">\n",
       "  <thead>\n",
       "    <tr style=\"text-align: right;\">\n",
       "      <th></th>\n",
       "      <th>order_id</th>\n",
       "      <th>user_id</th>\n",
       "      <th>eval_set</th>\n",
       "      <th>order_number</th>\n",
       "      <th>order_dow</th>\n",
       "      <th>order_hour_of_day</th>\n",
       "      <th>days_since_prior_order</th>\n",
       "    </tr>\n",
       "  </thead>\n",
       "  <tbody>\n",
       "    <tr>\n",
       "      <th>0</th>\n",
       "      <td>2539329</td>\n",
       "      <td>1</td>\n",
       "      <td>prior</td>\n",
       "      <td>1</td>\n",
       "      <td>2</td>\n",
       "      <td>8</td>\n",
       "      <td>NaN</td>\n",
       "    </tr>\n",
       "    <tr>\n",
       "      <th>1</th>\n",
       "      <td>2398795</td>\n",
       "      <td>1</td>\n",
       "      <td>prior</td>\n",
       "      <td>2</td>\n",
       "      <td>3</td>\n",
       "      <td>7</td>\n",
       "      <td>15.0</td>\n",
       "    </tr>\n",
       "    <tr>\n",
       "      <th>2</th>\n",
       "      <td>473747</td>\n",
       "      <td>1</td>\n",
       "      <td>prior</td>\n",
       "      <td>3</td>\n",
       "      <td>3</td>\n",
       "      <td>12</td>\n",
       "      <td>21.0</td>\n",
       "    </tr>\n",
       "    <tr>\n",
       "      <th>3</th>\n",
       "      <td>2254736</td>\n",
       "      <td>1</td>\n",
       "      <td>prior</td>\n",
       "      <td>4</td>\n",
       "      <td>4</td>\n",
       "      <td>7</td>\n",
       "      <td>29.0</td>\n",
       "    </tr>\n",
       "    <tr>\n",
       "      <th>4</th>\n",
       "      <td>431534</td>\n",
       "      <td>1</td>\n",
       "      <td>prior</td>\n",
       "      <td>5</td>\n",
       "      <td>4</td>\n",
       "      <td>15</td>\n",
       "      <td>28.0</td>\n",
       "    </tr>\n",
       "    <tr>\n",
       "      <th>5</th>\n",
       "      <td>3367565</td>\n",
       "      <td>1</td>\n",
       "      <td>prior</td>\n",
       "      <td>6</td>\n",
       "      <td>2</td>\n",
       "      <td>7</td>\n",
       "      <td>19.0</td>\n",
       "    </tr>\n",
       "    <tr>\n",
       "      <th>6</th>\n",
       "      <td>550135</td>\n",
       "      <td>1</td>\n",
       "      <td>prior</td>\n",
       "      <td>7</td>\n",
       "      <td>1</td>\n",
       "      <td>9</td>\n",
       "      <td>20.0</td>\n",
       "    </tr>\n",
       "    <tr>\n",
       "      <th>7</th>\n",
       "      <td>3108588</td>\n",
       "      <td>1</td>\n",
       "      <td>prior</td>\n",
       "      <td>8</td>\n",
       "      <td>1</td>\n",
       "      <td>14</td>\n",
       "      <td>14.0</td>\n",
       "    </tr>\n",
       "    <tr>\n",
       "      <th>8</th>\n",
       "      <td>2295261</td>\n",
       "      <td>1</td>\n",
       "      <td>prior</td>\n",
       "      <td>9</td>\n",
       "      <td>1</td>\n",
       "      <td>16</td>\n",
       "      <td>0.0</td>\n",
       "    </tr>\n",
       "    <tr>\n",
       "      <th>9</th>\n",
       "      <td>2550362</td>\n",
       "      <td>1</td>\n",
       "      <td>prior</td>\n",
       "      <td>10</td>\n",
       "      <td>4</td>\n",
       "      <td>8</td>\n",
       "      <td>30.0</td>\n",
       "    </tr>\n",
       "    <tr>\n",
       "      <th>10</th>\n",
       "      <td>1187899</td>\n",
       "      <td>1</td>\n",
       "      <td>train</td>\n",
       "      <td>11</td>\n",
       "      <td>4</td>\n",
       "      <td>8</td>\n",
       "      <td>14.0</td>\n",
       "    </tr>\n",
       "    <tr>\n",
       "      <th>11</th>\n",
       "      <td>2168274</td>\n",
       "      <td>2</td>\n",
       "      <td>prior</td>\n",
       "      <td>1</td>\n",
       "      <td>2</td>\n",
       "      <td>11</td>\n",
       "      <td>NaN</td>\n",
       "    </tr>\n",
       "    <tr>\n",
       "      <th>12</th>\n",
       "      <td>1501582</td>\n",
       "      <td>2</td>\n",
       "      <td>prior</td>\n",
       "      <td>2</td>\n",
       "      <td>5</td>\n",
       "      <td>10</td>\n",
       "      <td>10.0</td>\n",
       "    </tr>\n",
       "    <tr>\n",
       "      <th>13</th>\n",
       "      <td>1901567</td>\n",
       "      <td>2</td>\n",
       "      <td>prior</td>\n",
       "      <td>3</td>\n",
       "      <td>1</td>\n",
       "      <td>10</td>\n",
       "      <td>3.0</td>\n",
       "    </tr>\n",
       "    <tr>\n",
       "      <th>14</th>\n",
       "      <td>738281</td>\n",
       "      <td>2</td>\n",
       "      <td>prior</td>\n",
       "      <td>4</td>\n",
       "      <td>2</td>\n",
       "      <td>10</td>\n",
       "      <td>8.0</td>\n",
       "    </tr>\n",
       "    <tr>\n",
       "      <th>15</th>\n",
       "      <td>1673511</td>\n",
       "      <td>2</td>\n",
       "      <td>prior</td>\n",
       "      <td>5</td>\n",
       "      <td>3</td>\n",
       "      <td>11</td>\n",
       "      <td>8.0</td>\n",
       "    </tr>\n",
       "    <tr>\n",
       "      <th>16</th>\n",
       "      <td>1199898</td>\n",
       "      <td>2</td>\n",
       "      <td>prior</td>\n",
       "      <td>6</td>\n",
       "      <td>2</td>\n",
       "      <td>9</td>\n",
       "      <td>13.0</td>\n",
       "    </tr>\n",
       "    <tr>\n",
       "      <th>17</th>\n",
       "      <td>3194192</td>\n",
       "      <td>2</td>\n",
       "      <td>prior</td>\n",
       "      <td>7</td>\n",
       "      <td>2</td>\n",
       "      <td>12</td>\n",
       "      <td>14.0</td>\n",
       "    </tr>\n",
       "    <tr>\n",
       "      <th>18</th>\n",
       "      <td>788338</td>\n",
       "      <td>2</td>\n",
       "      <td>prior</td>\n",
       "      <td>8</td>\n",
       "      <td>1</td>\n",
       "      <td>15</td>\n",
       "      <td>27.0</td>\n",
       "    </tr>\n",
       "    <tr>\n",
       "      <th>19</th>\n",
       "      <td>1718559</td>\n",
       "      <td>2</td>\n",
       "      <td>prior</td>\n",
       "      <td>9</td>\n",
       "      <td>2</td>\n",
       "      <td>9</td>\n",
       "      <td>8.0</td>\n",
       "    </tr>\n",
       "  </tbody>\n",
       "</table>\n",
       "</div>"
      ],
      "text/plain": [
       "    order_id  user_id eval_set  order_number  order_dow  order_hour_of_day  \\\n",
       "0    2539329        1    prior             1          2                  8   \n",
       "1    2398795        1    prior             2          3                  7   \n",
       "2     473747        1    prior             3          3                 12   \n",
       "3    2254736        1    prior             4          4                  7   \n",
       "4     431534        1    prior             5          4                 15   \n",
       "5    3367565        1    prior             6          2                  7   \n",
       "6     550135        1    prior             7          1                  9   \n",
       "7    3108588        1    prior             8          1                 14   \n",
       "8    2295261        1    prior             9          1                 16   \n",
       "9    2550362        1    prior            10          4                  8   \n",
       "10   1187899        1    train            11          4                  8   \n",
       "11   2168274        2    prior             1          2                 11   \n",
       "12   1501582        2    prior             2          5                 10   \n",
       "13   1901567        2    prior             3          1                 10   \n",
       "14    738281        2    prior             4          2                 10   \n",
       "15   1673511        2    prior             5          3                 11   \n",
       "16   1199898        2    prior             6          2                  9   \n",
       "17   3194192        2    prior             7          2                 12   \n",
       "18    788338        2    prior             8          1                 15   \n",
       "19   1718559        2    prior             9          2                  9   \n",
       "\n",
       "    days_since_prior_order  \n",
       "0                      NaN  \n",
       "1                     15.0  \n",
       "2                     21.0  \n",
       "3                     29.0  \n",
       "4                     28.0  \n",
       "5                     19.0  \n",
       "6                     20.0  \n",
       "7                     14.0  \n",
       "8                      0.0  \n",
       "9                     30.0  \n",
       "10                    14.0  \n",
       "11                     NaN  \n",
       "12                    10.0  \n",
       "13                     3.0  \n",
       "14                     8.0  \n",
       "15                     8.0  \n",
       "16                    13.0  \n",
       "17                    14.0  \n",
       "18                    27.0  \n",
       "19                     8.0  "
      ]
     },
     "execution_count": 12,
     "metadata": {},
     "output_type": "execute_result"
    }
   ],
   "source": [
    "orders.head(20)"
   ]
  },
  {
   "cell_type": "code",
   "execution_count": 13,
   "id": "e4d3fdd6",
   "metadata": {},
   "outputs": [
    {
     "data": {
      "text/plain": [
       "82420     100\n",
       "154678    100\n",
       "134199    100\n",
       "60040     100\n",
       "143177    100\n",
       "         ... \n",
       "109381      4\n",
       "169577      4\n",
       "167530      4\n",
       "105283      4\n",
       "185566      4\n",
       "Name: user_id, Length: 206209, dtype: int64"
      ]
     },
     "execution_count": 13,
     "metadata": {},
     "output_type": "execute_result"
    }
   ],
   "source": [
    "orders.user_id.value_counts()"
   ]
  },
  {
   "cell_type": "code",
   "execution_count": 14,
   "id": "bd3c952f",
   "metadata": {},
   "outputs": [
    {
     "data": {
      "text/plain": [
       "206209"
      ]
     },
     "execution_count": 14,
     "metadata": {},
     "output_type": "execute_result"
    }
   ],
   "source": [
    "len(orders.user_id.unique())"
   ]
  },
  {
   "cell_type": "code",
   "execution_count": 15,
   "id": "011e7fa0",
   "metadata": {},
   "outputs": [
    {
     "data": {
      "text/html": [
       "<div>\n",
       "<style scoped>\n",
       "    .dataframe tbody tr th:only-of-type {\n",
       "        vertical-align: middle;\n",
       "    }\n",
       "\n",
       "    .dataframe tbody tr th {\n",
       "        vertical-align: top;\n",
       "    }\n",
       "\n",
       "    .dataframe thead th {\n",
       "        text-align: right;\n",
       "    }\n",
       "</style>\n",
       "<table border=\"1\" class=\"dataframe\">\n",
       "  <thead>\n",
       "    <tr style=\"text-align: right;\">\n",
       "      <th></th>\n",
       "      <th>order_id</th>\n",
       "      <th>user_id</th>\n",
       "      <th>eval_set</th>\n",
       "      <th>order_number</th>\n",
       "      <th>order_dow</th>\n",
       "      <th>order_hour_of_day</th>\n",
       "      <th>days_since_prior_order</th>\n",
       "    </tr>\n",
       "  </thead>\n",
       "  <tbody>\n",
       "    <tr>\n",
       "      <th>2531775</th>\n",
       "      <td>1449611</td>\n",
       "      <td>152340</td>\n",
       "      <td>prior</td>\n",
       "      <td>1</td>\n",
       "      <td>1</td>\n",
       "      <td>16</td>\n",
       "      <td>NaN</td>\n",
       "    </tr>\n",
       "    <tr>\n",
       "      <th>2531776</th>\n",
       "      <td>2514100</td>\n",
       "      <td>152340</td>\n",
       "      <td>prior</td>\n",
       "      <td>2</td>\n",
       "      <td>2</td>\n",
       "      <td>20</td>\n",
       "      <td>1.0</td>\n",
       "    </tr>\n",
       "    <tr>\n",
       "      <th>2531777</th>\n",
       "      <td>703955</td>\n",
       "      <td>152340</td>\n",
       "      <td>prior</td>\n",
       "      <td>3</td>\n",
       "      <td>6</td>\n",
       "      <td>19</td>\n",
       "      <td>4.0</td>\n",
       "    </tr>\n",
       "    <tr>\n",
       "      <th>2531778</th>\n",
       "      <td>2369974</td>\n",
       "      <td>152340</td>\n",
       "      <td>prior</td>\n",
       "      <td>4</td>\n",
       "      <td>1</td>\n",
       "      <td>16</td>\n",
       "      <td>2.0</td>\n",
       "    </tr>\n",
       "    <tr>\n",
       "      <th>2531779</th>\n",
       "      <td>1611418</td>\n",
       "      <td>152340</td>\n",
       "      <td>prior</td>\n",
       "      <td>5</td>\n",
       "      <td>1</td>\n",
       "      <td>13</td>\n",
       "      <td>7.0</td>\n",
       "    </tr>\n",
       "    <tr>\n",
       "      <th>...</th>\n",
       "      <td>...</td>\n",
       "      <td>...</td>\n",
       "      <td>...</td>\n",
       "      <td>...</td>\n",
       "      <td>...</td>\n",
       "      <td>...</td>\n",
       "      <td>...</td>\n",
       "    </tr>\n",
       "    <tr>\n",
       "      <th>2531870</th>\n",
       "      <td>2426258</td>\n",
       "      <td>152340</td>\n",
       "      <td>prior</td>\n",
       "      <td>96</td>\n",
       "      <td>2</td>\n",
       "      <td>10</td>\n",
       "      <td>5.0</td>\n",
       "    </tr>\n",
       "    <tr>\n",
       "      <th>2531871</th>\n",
       "      <td>2844510</td>\n",
       "      <td>152340</td>\n",
       "      <td>prior</td>\n",
       "      <td>97</td>\n",
       "      <td>3</td>\n",
       "      <td>18</td>\n",
       "      <td>1.0</td>\n",
       "    </tr>\n",
       "    <tr>\n",
       "      <th>2531872</th>\n",
       "      <td>2422272</td>\n",
       "      <td>152340</td>\n",
       "      <td>prior</td>\n",
       "      <td>98</td>\n",
       "      <td>0</td>\n",
       "      <td>9</td>\n",
       "      <td>4.0</td>\n",
       "    </tr>\n",
       "    <tr>\n",
       "      <th>2531873</th>\n",
       "      <td>540084</td>\n",
       "      <td>152340</td>\n",
       "      <td>prior</td>\n",
       "      <td>99</td>\n",
       "      <td>4</td>\n",
       "      <td>20</td>\n",
       "      <td>4.0</td>\n",
       "    </tr>\n",
       "    <tr>\n",
       "      <th>2531874</th>\n",
       "      <td>2778366</td>\n",
       "      <td>152340</td>\n",
       "      <td>test</td>\n",
       "      <td>100</td>\n",
       "      <td>6</td>\n",
       "      <td>7</td>\n",
       "      <td>2.0</td>\n",
       "    </tr>\n",
       "  </tbody>\n",
       "</table>\n",
       "<p>100 rows × 7 columns</p>\n",
       "</div>"
      ],
      "text/plain": [
       "         order_id  user_id eval_set  order_number  order_dow  \\\n",
       "2531775   1449611   152340    prior             1          1   \n",
       "2531776   2514100   152340    prior             2          2   \n",
       "2531777    703955   152340    prior             3          6   \n",
       "2531778   2369974   152340    prior             4          1   \n",
       "2531779   1611418   152340    prior             5          1   \n",
       "...           ...      ...      ...           ...        ...   \n",
       "2531870   2426258   152340    prior            96          2   \n",
       "2531871   2844510   152340    prior            97          3   \n",
       "2531872   2422272   152340    prior            98          0   \n",
       "2531873    540084   152340    prior            99          4   \n",
       "2531874   2778366   152340     test           100          6   \n",
       "\n",
       "         order_hour_of_day  days_since_prior_order  \n",
       "2531775                 16                     NaN  \n",
       "2531776                 20                     1.0  \n",
       "2531777                 19                     4.0  \n",
       "2531778                 16                     2.0  \n",
       "2531779                 13                     7.0  \n",
       "...                    ...                     ...  \n",
       "2531870                 10                     5.0  \n",
       "2531871                 18                     1.0  \n",
       "2531872                  9                     4.0  \n",
       "2531873                 20                     4.0  \n",
       "2531874                  7                     2.0  \n",
       "\n",
       "[100 rows x 7 columns]"
      ]
     },
     "execution_count": 15,
     "metadata": {},
     "output_type": "execute_result"
    }
   ],
   "source": [
    "orders[orders['user_id']==152340]"
   ]
  },
  {
   "cell_type": "code",
   "execution_count": 16,
   "id": "54b43d7d",
   "metadata": {},
   "outputs": [
    {
     "data": {
      "text/html": [
       "<div>\n",
       "<style scoped>\n",
       "    .dataframe tbody tr th:only-of-type {\n",
       "        vertical-align: middle;\n",
       "    }\n",
       "\n",
       "    .dataframe tbody tr th {\n",
       "        vertical-align: top;\n",
       "    }\n",
       "\n",
       "    .dataframe thead th {\n",
       "        text-align: right;\n",
       "    }\n",
       "</style>\n",
       "<table border=\"1\" class=\"dataframe\">\n",
       "  <thead>\n",
       "    <tr style=\"text-align: right;\">\n",
       "      <th></th>\n",
       "      <th>order_id</th>\n",
       "      <th>user_id</th>\n",
       "      <th>eval_set</th>\n",
       "      <th>order_number</th>\n",
       "      <th>order_dow</th>\n",
       "      <th>order_hour_of_day</th>\n",
       "      <th>days_since_prior_order</th>\n",
       "    </tr>\n",
       "  </thead>\n",
       "  <tbody>\n",
       "    <tr>\n",
       "      <th>3264</th>\n",
       "      <td>3176785</td>\n",
       "      <td>210</td>\n",
       "      <td>train</td>\n",
       "      <td>100</td>\n",
       "      <td>1</td>\n",
       "      <td>12</td>\n",
       "      <td>5.0</td>\n",
       "    </tr>\n",
       "    <tr>\n",
       "      <th>5122</th>\n",
       "      <td>988</td>\n",
       "      <td>310</td>\n",
       "      <td>train</td>\n",
       "      <td>100</td>\n",
       "      <td>2</td>\n",
       "      <td>9</td>\n",
       "      <td>4.0</td>\n",
       "    </tr>\n",
       "    <tr>\n",
       "      <th>5243</th>\n",
       "      <td>2956359</td>\n",
       "      <td>313</td>\n",
       "      <td>train</td>\n",
       "      <td>100</td>\n",
       "      <td>1</td>\n",
       "      <td>6</td>\n",
       "      <td>4.0</td>\n",
       "    </tr>\n",
       "    <tr>\n",
       "      <th>11182</th>\n",
       "      <td>3327840</td>\n",
       "      <td>690</td>\n",
       "      <td>train</td>\n",
       "      <td>100</td>\n",
       "      <td>4</td>\n",
       "      <td>11</td>\n",
       "      <td>2.0</td>\n",
       "    </tr>\n",
       "    <tr>\n",
       "      <th>12588</th>\n",
       "      <td>90628</td>\n",
       "      <td>786</td>\n",
       "      <td>train</td>\n",
       "      <td>100</td>\n",
       "      <td>0</td>\n",
       "      <td>10</td>\n",
       "      <td>2.0</td>\n",
       "    </tr>\n",
       "    <tr>\n",
       "      <th>...</th>\n",
       "      <td>...</td>\n",
       "      <td>...</td>\n",
       "      <td>...</td>\n",
       "      <td>...</td>\n",
       "      <td>...</td>\n",
       "      <td>...</td>\n",
       "      <td>...</td>\n",
       "    </tr>\n",
       "    <tr>\n",
       "      <th>3408960</th>\n",
       "      <td>1664187</td>\n",
       "      <td>205483</td>\n",
       "      <td>train</td>\n",
       "      <td>100</td>\n",
       "      <td>2</td>\n",
       "      <td>9</td>\n",
       "      <td>3.0</td>\n",
       "    </tr>\n",
       "    <tr>\n",
       "      <th>3410122</th>\n",
       "      <td>2720227</td>\n",
       "      <td>205543</td>\n",
       "      <td>train</td>\n",
       "      <td>100</td>\n",
       "      <td>2</td>\n",
       "      <td>18</td>\n",
       "      <td>8.0</td>\n",
       "    </tr>\n",
       "    <tr>\n",
       "      <th>3415733</th>\n",
       "      <td>105274</td>\n",
       "      <td>205878</td>\n",
       "      <td>train</td>\n",
       "      <td>100</td>\n",
       "      <td>1</td>\n",
       "      <td>13</td>\n",
       "      <td>7.0</td>\n",
       "    </tr>\n",
       "    <tr>\n",
       "      <th>3417312</th>\n",
       "      <td>68079</td>\n",
       "      <td>205972</td>\n",
       "      <td>train</td>\n",
       "      <td>100</td>\n",
       "      <td>5</td>\n",
       "      <td>10</td>\n",
       "      <td>0.0</td>\n",
       "    </tr>\n",
       "    <tr>\n",
       "      <th>3419501</th>\n",
       "      <td>2411828</td>\n",
       "      <td>206105</td>\n",
       "      <td>test</td>\n",
       "      <td>100</td>\n",
       "      <td>0</td>\n",
       "      <td>11</td>\n",
       "      <td>1.0</td>\n",
       "    </tr>\n",
       "  </tbody>\n",
       "</table>\n",
       "<p>1374 rows × 7 columns</p>\n",
       "</div>"
      ],
      "text/plain": [
       "         order_id  user_id eval_set  order_number  order_dow  \\\n",
       "3264      3176785      210    train           100          1   \n",
       "5122          988      310    train           100          2   \n",
       "5243      2956359      313    train           100          1   \n",
       "11182     3327840      690    train           100          4   \n",
       "12588       90628      786    train           100          0   \n",
       "...           ...      ...      ...           ...        ...   \n",
       "3408960   1664187   205483    train           100          2   \n",
       "3410122   2720227   205543    train           100          2   \n",
       "3415733    105274   205878    train           100          1   \n",
       "3417312     68079   205972    train           100          5   \n",
       "3419501   2411828   206105     test           100          0   \n",
       "\n",
       "         order_hour_of_day  days_since_prior_order  \n",
       "3264                    12                     5.0  \n",
       "5122                     9                     4.0  \n",
       "5243                     6                     4.0  \n",
       "11182                   11                     2.0  \n",
       "12588                   10                     2.0  \n",
       "...                    ...                     ...  \n",
       "3408960                  9                     3.0  \n",
       "3410122                 18                     8.0  \n",
       "3415733                 13                     7.0  \n",
       "3417312                 10                     0.0  \n",
       "3419501                 11                     1.0  \n",
       "\n",
       "[1374 rows x 7 columns]"
      ]
     },
     "execution_count": 16,
     "metadata": {},
     "output_type": "execute_result"
    }
   ],
   "source": [
    "orders[orders['order_number']==100]"
   ]
  },
  {
   "cell_type": "code",
   "execution_count": 17,
   "id": "eea8729e",
   "metadata": {},
   "outputs": [
    {
     "data": {
      "text/html": [
       "<div>\n",
       "<style scoped>\n",
       "    .dataframe tbody tr th:only-of-type {\n",
       "        vertical-align: middle;\n",
       "    }\n",
       "\n",
       "    .dataframe tbody tr th {\n",
       "        vertical-align: top;\n",
       "    }\n",
       "\n",
       "    .dataframe thead th {\n",
       "        text-align: right;\n",
       "    }\n",
       "</style>\n",
       "<table border=\"1\" class=\"dataframe\">\n",
       "  <thead>\n",
       "    <tr style=\"text-align: right;\">\n",
       "      <th></th>\n",
       "      <th>order_id</th>\n",
       "      <th>user_id</th>\n",
       "      <th>eval_set</th>\n",
       "      <th>order_number</th>\n",
       "      <th>order_dow</th>\n",
       "      <th>order_hour_of_day</th>\n",
       "      <th>days_since_prior_order</th>\n",
       "    </tr>\n",
       "  </thead>\n",
       "  <tbody>\n",
       "    <tr>\n",
       "      <th>39</th>\n",
       "      <td>3343014</td>\n",
       "      <td>4</td>\n",
       "      <td>prior</td>\n",
       "      <td>1</td>\n",
       "      <td>6</td>\n",
       "      <td>11</td>\n",
       "      <td>NaN</td>\n",
       "    </tr>\n",
       "    <tr>\n",
       "      <th>40</th>\n",
       "      <td>2030307</td>\n",
       "      <td>4</td>\n",
       "      <td>prior</td>\n",
       "      <td>2</td>\n",
       "      <td>4</td>\n",
       "      <td>11</td>\n",
       "      <td>19.0</td>\n",
       "    </tr>\n",
       "    <tr>\n",
       "      <th>41</th>\n",
       "      <td>691089</td>\n",
       "      <td>4</td>\n",
       "      <td>prior</td>\n",
       "      <td>3</td>\n",
       "      <td>4</td>\n",
       "      <td>15</td>\n",
       "      <td>21.0</td>\n",
       "    </tr>\n",
       "    <tr>\n",
       "      <th>42</th>\n",
       "      <td>94891</td>\n",
       "      <td>4</td>\n",
       "      <td>prior</td>\n",
       "      <td>4</td>\n",
       "      <td>5</td>\n",
       "      <td>13</td>\n",
       "      <td>15.0</td>\n",
       "    </tr>\n",
       "    <tr>\n",
       "      <th>43</th>\n",
       "      <td>2557754</td>\n",
       "      <td>4</td>\n",
       "      <td>prior</td>\n",
       "      <td>5</td>\n",
       "      <td>5</td>\n",
       "      <td>13</td>\n",
       "      <td>0.0</td>\n",
       "    </tr>\n",
       "    <tr>\n",
       "      <th>44</th>\n",
       "      <td>329954</td>\n",
       "      <td>4</td>\n",
       "      <td>test</td>\n",
       "      <td>6</td>\n",
       "      <td>3</td>\n",
       "      <td>12</td>\n",
       "      <td>30.0</td>\n",
       "    </tr>\n",
       "  </tbody>\n",
       "</table>\n",
       "</div>"
      ],
      "text/plain": [
       "    order_id  user_id eval_set  order_number  order_dow  order_hour_of_day  \\\n",
       "39   3343014        4    prior             1          6                 11   \n",
       "40   2030307        4    prior             2          4                 11   \n",
       "41    691089        4    prior             3          4                 15   \n",
       "42     94891        4    prior             4          5                 13   \n",
       "43   2557754        4    prior             5          5                 13   \n",
       "44    329954        4     test             6          3                 12   \n",
       "\n",
       "    days_since_prior_order  \n",
       "39                     NaN  \n",
       "40                    19.0  \n",
       "41                    21.0  \n",
       "42                    15.0  \n",
       "43                     0.0  \n",
       "44                    30.0  "
      ]
     },
     "execution_count": 17,
     "metadata": {},
     "output_type": "execute_result"
    }
   ],
   "source": [
    "orders[orders['user_id']==4]"
   ]
  },
  {
   "cell_type": "code",
   "execution_count": 18,
   "id": "da1c77eb",
   "metadata": {},
   "outputs": [],
   "source": [
    "#orders.order_number.describe()"
   ]
  },
  {
   "cell_type": "code",
   "execution_count": 19,
   "id": "a2ee17b3",
   "metadata": {},
   "outputs": [
    {
     "data": {
      "text/plain": [
       "3421083"
      ]
     },
     "execution_count": 19,
     "metadata": {},
     "output_type": "execute_result"
    }
   ],
   "source": [
    "len(orders.order_id.unique())"
   ]
  },
  {
   "cell_type": "code",
   "execution_count": 20,
   "id": "5cc7f1a6",
   "metadata": {},
   "outputs": [
    {
     "data": {
      "text/plain": [
       "206209"
      ]
     },
     "execution_count": 20,
     "metadata": {},
     "output_type": "execute_result"
    }
   ],
   "source": [
    "len(orders.user_id.unique())"
   ]
  },
  {
   "cell_type": "code",
   "execution_count": 21,
   "id": "f708ed48",
   "metadata": {},
   "outputs": [
    {
     "data": {
      "text/plain": [
       "array(['prior', 'train', 'test'], dtype=object)"
      ]
     },
     "execution_count": 21,
     "metadata": {},
     "output_type": "execute_result"
    }
   ],
   "source": [
    "orders['eval_set'].unique()"
   ]
  },
  {
   "cell_type": "code",
   "execution_count": 22,
   "id": "85686163",
   "metadata": {},
   "outputs": [
    {
     "data": {
      "text/plain": [
       "prior    3214874\n",
       "train     131209\n",
       "test       75000\n",
       "Name: eval_set, dtype: int64"
      ]
     },
     "execution_count": 22,
     "metadata": {},
     "output_type": "execute_result"
    }
   ],
   "source": [
    "orders['eval_set'].value_counts()"
   ]
  },
  {
   "cell_type": "code",
   "execution_count": 23,
   "id": "85505702",
   "metadata": {},
   "outputs": [
    {
     "data": {
      "text/plain": [
       "82420     100\n",
       "154678    100\n",
       "134199    100\n",
       "60040     100\n",
       "143177    100\n",
       "144435    100\n",
       "133426    100\n",
       "196314    100\n",
       "99132     100\n",
       "106823    100\n",
       "70742     100\n",
       "98628     100\n",
       "69974     100\n",
       "143434    100\n",
       "9333      100\n",
       "35048     100\n",
       "63718     100\n",
       "127547    100\n",
       "100916    100\n",
       "164927    100\n",
       "Name: user_id, dtype: int64"
      ]
     },
     "execution_count": 23,
     "metadata": {},
     "output_type": "execute_result"
    }
   ],
   "source": [
    "orders.user_id.value_counts().head(20)"
   ]
  },
  {
   "cell_type": "code",
   "execution_count": 24,
   "id": "81f887b9",
   "metadata": {},
   "outputs": [
    {
     "data": {
      "text/plain": [
       "count    206209.000000\n",
       "mean         16.590367\n",
       "std          16.654774\n",
       "min           4.000000\n",
       "25%           6.000000\n",
       "50%          10.000000\n",
       "75%          20.000000\n",
       "max         100.000000\n",
       "Name: user_id, dtype: float64"
      ]
     },
     "execution_count": 24,
     "metadata": {},
     "output_type": "execute_result"
    }
   ],
   "source": [
    "orders.user_id.value_counts().describe()"
   ]
  },
  {
   "cell_type": "code",
   "execution_count": 25,
   "id": "86265b6a",
   "metadata": {},
   "outputs": [
    {
     "data": {
      "text/plain": [
       "count    3.421083e+06\n",
       "mean     1.715486e+01\n",
       "std      1.773316e+01\n",
       "min      1.000000e+00\n",
       "25%      5.000000e+00\n",
       "50%      1.100000e+01\n",
       "75%      2.300000e+01\n",
       "max      1.000000e+02\n",
       "Name: order_number, dtype: float64"
      ]
     },
     "execution_count": 25,
     "metadata": {},
     "output_type": "execute_result"
    }
   ],
   "source": [
    "orders.order_number.describe()"
   ]
  },
  {
   "cell_type": "code",
   "execution_count": 26,
   "id": "2aa824f6",
   "metadata": {},
   "outputs": [],
   "source": [
    "order_number = orders.groupby('user_id')['order_number'].max()\n",
    "order_number = order_number.value_counts()"
   ]
  },
  {
   "cell_type": "code",
   "execution_count": 27,
   "id": "6e399de9",
   "metadata": {},
   "outputs": [
    {
     "data": {
      "text/plain": [
       "4     23986\n",
       "5     19590\n",
       "6     16165\n",
       "7     13850\n",
       "8     11700\n",
       "      ...  \n",
       "94       57\n",
       "91       56\n",
       "97       54\n",
       "98       50\n",
       "99       47\n",
       "Name: order_number, Length: 97, dtype: int64"
      ]
     },
     "execution_count": 27,
     "metadata": {},
     "output_type": "execute_result"
    }
   ],
   "source": [
    "order_number"
   ]
  },
  {
   "cell_type": "code",
   "execution_count": 28,
   "id": "f02b8a88",
   "metadata": {},
   "outputs": [
    {
     "data": {
      "text/plain": [
       "user_id\n",
       "152340    100\n",
       "185641    100\n",
       "185524    100\n",
       "81678     100\n",
       "70922     100\n",
       "         ... \n",
       "13046       4\n",
       "70208       4\n",
       "111440      4\n",
       "31762       4\n",
       "47980       4\n",
       "Name: order_number, Length: 206209, dtype: int64"
      ]
     },
     "execution_count": 28,
     "metadata": {},
     "output_type": "execute_result"
    }
   ],
   "source": [
    "orders.groupby(['user_id'])['order_number'].count().sort_values(ascending=False)\n"
   ]
  },
  {
   "cell_type": "code",
   "execution_count": 29,
   "id": "22b26fa2",
   "metadata": {},
   "outputs": [],
   "source": [
    "order_number = orders.groupby('user_id')['order_number'].max()\n",
    "order_number = order_number.value_counts()"
   ]
  },
  {
   "cell_type": "code",
   "execution_count": 30,
   "id": "54026fdd",
   "metadata": {},
   "outputs": [
    {
     "data": {
      "text/plain": [
       "94    57\n",
       "91    56\n",
       "97    54\n",
       "98    50\n",
       "99    47\n",
       "Name: order_number, dtype: int64"
      ]
     },
     "execution_count": 30,
     "metadata": {},
     "output_type": "execute_result"
    }
   ],
   "source": [
    "order_number.tail()"
   ]
  },
  {
   "cell_type": "code",
   "execution_count": 31,
   "id": "d148447e",
   "metadata": {},
   "outputs": [],
   "source": [
    "#fig, ax = plt.subplots(figsize=(15,8))\n",
    "#ax = sns.barplot(x = order_number.index, y = order_number.values, color = color[3])\n",
    "#ax.set_xlabel('Orders per customer')\n",
    "#ax.set_ylabel('Count')\n",
    "#ax.xaxis.set_tick_params(rotation=90, labelsize=10)\n",
    "#ax.set_title('Frequency of Total Orders by Customers')\n",
    "#fig.savefig('Frequency of Total Orders by Customers.png')"
   ]
  },
  {
   "cell_type": "code",
   "execution_count": 32,
   "id": "fe67909b",
   "metadata": {},
   "outputs": [
    {
     "data": {
      "image/png": "[encoded data removed]",
      "text/plain": [
       "<Figure size 720x576 with 1 Axes>"
      ]
     },
     "metadata": {},
     "output_type": "display_data"
    }
   ],
   "source": [
    "fig, ax = plt.subplots(figsize = (10,8))\n",
    "ax = sns.kdeplot(orders.order_number[orders.eval_set == 'prior'], label = \"Prior set\", lw = 1)\n",
    "ax = sns.kdeplot(orders.order_number[orders.eval_set == 'train'], label = \"Train set\", lw = 1)\n",
    "ax = sns.kdeplot(orders.order_number[orders.eval_set == 'test'], label = \"Test set\", lw = 1)\n",
    "ax.set_xlabel('Order Number')\n",
    "ax.set_ylabel('Count')\n",
    "ax.tick_params(axis = 'both', labelsize = 10)\n",
    "ax.set_title('Distribution of Orders in Various Sets')\n",
    "#fig.savefig('Distribution of Orders in Various Sets.png')\n",
    "plt.show()"
   ]
  },
  {
   "cell_type": "code",
   "execution_count": 33,
   "id": "1efcb037",
   "metadata": {},
   "outputs": [
    {
     "data": {
      "text/plain": [
       "0    600905\n",
       "1    587478\n",
       "2    467260\n",
       "5    453368\n",
       "6    448761\n",
       "3    436972\n",
       "4    426339\n",
       "Name: order_dow, dtype: int64"
      ]
     },
     "execution_count": 33,
     "metadata": {},
     "output_type": "execute_result"
    }
   ],
   "source": [
    "orders.order_dow.value_counts()"
   ]
  },
  {
   "cell_type": "code",
   "execution_count": 37,
   "id": "937fefa6",
   "metadata": {},
   "outputs": [
    {
     "name": "stderr",
     "output_type": "stream",
     "text": [
      "C:\\ProgramData\\Anaconda3\\lib\\site-packages\\seaborn\\_decorators.py:36: FutureWarning: Pass the following variable as a keyword arg: x. From version 0.12, the only valid positional argument will be `data`, and passing other arguments without an explicit keyword will result in an error or misinterpretation.\n",
      "  warnings.warn(\n"
     ]
    },
    {
     "data": {
      "image/png": "[encoded data removed]",
      "text/plain": [
       "<Figure size 720x576 with 1 Axes>"
      ]
     },
     "metadata": {},
     "output_type": "display_data"
    }
   ],
   "source": [
    "fig, ax = plt.subplots(figsize=(10,8))\n",
    "ax = sns.countplot(orders.order_dow)\n",
    "ax.set_xlabel('Day of Week', size = 15)\n",
    "ax.set_ylabel('Orders', size = 15)\n",
    "ax.tick_params(axis = 'both', labelsize = 10)\n",
    "ax.set_title('Total Orders per Day of Week')\n",
    "fig.savefig('Total Orders per Day of Week.png')\n",
    "plt.show()"
   ]
  },
  {
   "cell_type": "code",
   "execution_count": 39,
   "id": "191275eb",
   "metadata": {},
   "outputs": [],
   "source": [
    "temp_df = orders.groupby('order_dow')['user_id'].nunique()\n"
   ]
  },
  {
   "cell_type": "code",
   "execution_count": 41,
   "id": "d45ebb15",
   "metadata": {},
   "outputs": [
    {
     "data": {
      "image/png": "[encoded data removed]",
      "text/plain": [
       "<Figure size 720x576 with 1 Axes>"
      ]
     },
     "metadata": {},
     "output_type": "display_data"
    }
   ],
   "source": [
    "fig, ax = plt.subplots(figsize=(10,8))\n",
    "ax = sns.barplot(x = temp_df.index, y = temp_df.values)\n",
    "ax.set_xlabel('Day of Week', size = 15)\n",
    "ax.set_ylabel('Total Unique Users', size = 15)\n",
    "ax.tick_params(axis = 'both', labelsize = 10)\n",
    "ax.set_title('Total Unique Users per Day of Week')\n",
    "fig.savefig('Total Unique Users per Day of Week.png')\n",
    "plt.show()"
   ]
  },
  {
   "cell_type": "code",
   "execution_count": 42,
   "id": "84a87893",
   "metadata": {},
   "outputs": [
    {
     "name": "stderr",
     "output_type": "stream",
     "text": [
      "C:\\ProgramData\\Anaconda3\\lib\\site-packages\\seaborn\\_decorators.py:36: FutureWarning: Pass the following variable as a keyword arg: x. From version 0.12, the only valid positional argument will be `data`, and passing other arguments without an explicit keyword will result in an error or misinterpretation.\n",
      "  warnings.warn(\n"
     ]
    },
    {
     "data": {
      "image/png": "[encoded data removed]",
      "text/plain": [
       "<Figure size 720x576 with 1 Axes>"
      ]
     },
     "metadata": {},
     "output_type": "display_data"
    }
   ],
   "source": [
    "fig, ax = plt.subplots(figsize=(10,8))\n",
    "ax = sns.countplot(orders.order_hour_of_day)\n",
    "ax.set_xlabel('Hour of day', size = 15)\n",
    "ax.set_ylabel('Orders', size = 15)\n",
    "ax.tick_params(axis = 'both', labelsize = 10)\n",
    "ax.set_title('orders per hour of the day')\n",
    "fig.savefig('Total Orders per Hour of Day.png')\n",
    "plt.show()"
   ]
  },
  {
   "cell_type": "code",
   "execution_count": 43,
   "id": "21329472",
   "metadata": {},
   "outputs": [
    {
     "data": {
      "text/html": [
       "<div>\n",
       "<style scoped>\n",
       "    .dataframe tbody tr th:only-of-type {\n",
       "        vertical-align: middle;\n",
       "    }\n",
       "\n",
       "    .dataframe tbody tr th {\n",
       "        vertical-align: top;\n",
       "    }\n",
       "\n",
       "    .dataframe thead th {\n",
       "        text-align: right;\n",
       "    }\n",
       "</style>\n",
       "<table border=\"1\" class=\"dataframe\">\n",
       "  <thead>\n",
       "    <tr style=\"text-align: right;\">\n",
       "      <th>order_hour_of_day</th>\n",
       "      <th>0</th>\n",
       "      <th>1</th>\n",
       "      <th>2</th>\n",
       "      <th>3</th>\n",
       "      <th>4</th>\n",
       "      <th>5</th>\n",
       "      <th>6</th>\n",
       "      <th>7</th>\n",
       "      <th>8</th>\n",
       "      <th>9</th>\n",
       "      <th>10</th>\n",
       "      <th>11</th>\n",
       "      <th>12</th>\n",
       "      <th>13</th>\n",
       "      <th>14</th>\n",
       "      <th>15</th>\n",
       "      <th>16</th>\n",
       "      <th>17</th>\n",
       "      <th>18</th>\n",
       "      <th>19</th>\n",
       "      <th>20</th>\n",
       "      <th>21</th>\n",
       "      <th>22</th>\n",
       "      <th>23</th>\n",
       "    </tr>\n",
       "    <tr>\n",
       "      <th>order_dow</th>\n",
       "      <th></th>\n",
       "      <th></th>\n",
       "      <th></th>\n",
       "      <th></th>\n",
       "      <th></th>\n",
       "      <th></th>\n",
       "      <th></th>\n",
       "      <th></th>\n",
       "      <th></th>\n",
       "      <th></th>\n",
       "      <th></th>\n",
       "      <th></th>\n",
       "      <th></th>\n",
       "      <th></th>\n",
       "      <th></th>\n",
       "      <th></th>\n",
       "      <th></th>\n",
       "      <th></th>\n",
       "      <th></th>\n",
       "      <th></th>\n",
       "      <th></th>\n",
       "      <th></th>\n",
       "      <th></th>\n",
       "      <th></th>\n",
       "    </tr>\n",
       "  </thead>\n",
       "  <tbody>\n",
       "    <tr>\n",
       "      <th>0</th>\n",
       "      <td>3936</td>\n",
       "      <td>2398</td>\n",
       "      <td>1409</td>\n",
       "      <td>963</td>\n",
       "      <td>813</td>\n",
       "      <td>1168</td>\n",
       "      <td>3329</td>\n",
       "      <td>12410</td>\n",
       "      <td>28108</td>\n",
       "      <td>40798</td>\n",
       "      <td>48465</td>\n",
       "      <td>51035</td>\n",
       "      <td>51443</td>\n",
       "      <td>53849</td>\n",
       "      <td>54552</td>\n",
       "      <td>53954</td>\n",
       "      <td>49463</td>\n",
       "      <td>39753</td>\n",
       "      <td>29572</td>\n",
       "      <td>22654</td>\n",
       "      <td>18277</td>\n",
       "      <td>14423</td>\n",
       "      <td>11246</td>\n",
       "      <td>6887</td>\n",
       "    </tr>\n",
       "    <tr>\n",
       "      <th>1</th>\n",
       "      <td>3674</td>\n",
       "      <td>1830</td>\n",
       "      <td>1105</td>\n",
       "      <td>748</td>\n",
       "      <td>809</td>\n",
       "      <td>1607</td>\n",
       "      <td>5370</td>\n",
       "      <td>16571</td>\n",
       "      <td>34116</td>\n",
       "      <td>51908</td>\n",
       "      <td>55671</td>\n",
       "      <td>51584</td>\n",
       "      <td>47079</td>\n",
       "      <td>46728</td>\n",
       "      <td>46764</td>\n",
       "      <td>46403</td>\n",
       "      <td>44761</td>\n",
       "      <td>36792</td>\n",
       "      <td>28977</td>\n",
       "      <td>22145</td>\n",
       "      <td>16281</td>\n",
       "      <td>11943</td>\n",
       "      <td>8992</td>\n",
       "      <td>5620</td>\n",
       "    </tr>\n",
       "    <tr>\n",
       "      <th>2</th>\n",
       "      <td>3059</td>\n",
       "      <td>1572</td>\n",
       "      <td>943</td>\n",
       "      <td>719</td>\n",
       "      <td>744</td>\n",
       "      <td>1399</td>\n",
       "      <td>4758</td>\n",
       "      <td>13245</td>\n",
       "      <td>24635</td>\n",
       "      <td>36314</td>\n",
       "      <td>39230</td>\n",
       "      <td>38128</td>\n",
       "      <td>35780</td>\n",
       "      <td>36650</td>\n",
       "      <td>37173</td>\n",
       "      <td>37469</td>\n",
       "      <td>37541</td>\n",
       "      <td>32151</td>\n",
       "      <td>26470</td>\n",
       "      <td>20084</td>\n",
       "      <td>15039</td>\n",
       "      <td>10653</td>\n",
       "      <td>8146</td>\n",
       "      <td>5358</td>\n",
       "    </tr>\n",
       "    <tr>\n",
       "      <th>3</th>\n",
       "      <td>2952</td>\n",
       "      <td>1495</td>\n",
       "      <td>953</td>\n",
       "      <td>654</td>\n",
       "      <td>719</td>\n",
       "      <td>1355</td>\n",
       "      <td>4562</td>\n",
       "      <td>12396</td>\n",
       "      <td>22553</td>\n",
       "      <td>32312</td>\n",
       "      <td>36040</td>\n",
       "      <td>35215</td>\n",
       "      <td>33455</td>\n",
       "      <td>34161</td>\n",
       "      <td>34773</td>\n",
       "      <td>35990</td>\n",
       "      <td>35273</td>\n",
       "      <td>30368</td>\n",
       "      <td>25001</td>\n",
       "      <td>19249</td>\n",
       "      <td>13795</td>\n",
       "      <td>10278</td>\n",
       "      <td>8242</td>\n",
       "      <td>5181</td>\n",
       "    </tr>\n",
       "    <tr>\n",
       "      <th>4</th>\n",
       "      <td>2642</td>\n",
       "      <td>1512</td>\n",
       "      <td>899</td>\n",
       "      <td>686</td>\n",
       "      <td>730</td>\n",
       "      <td>1330</td>\n",
       "      <td>4401</td>\n",
       "      <td>12493</td>\n",
       "      <td>21814</td>\n",
       "      <td>31409</td>\n",
       "      <td>35034</td>\n",
       "      <td>33857</td>\n",
       "      <td>32249</td>\n",
       "      <td>32751</td>\n",
       "      <td>33625</td>\n",
       "      <td>34222</td>\n",
       "      <td>34093</td>\n",
       "      <td>29378</td>\n",
       "      <td>24425</td>\n",
       "      <td>19350</td>\n",
       "      <td>14186</td>\n",
       "      <td>10796</td>\n",
       "      <td>8812</td>\n",
       "      <td>5645</td>\n",
       "    </tr>\n",
       "  </tbody>\n",
       "</table>\n",
       "</div>"
      ],
      "text/plain": [
       "order_hour_of_day    0     1     2    3    4     5     6      7      8   \\\n",
       "order_dow                                                                 \n",
       "0                  3936  2398  1409  963  813  1168  3329  12410  28108   \n",
       "1                  3674  1830  1105  748  809  1607  5370  16571  34116   \n",
       "2                  3059  1572   943  719  744  1399  4758  13245  24635   \n",
       "3                  2952  1495   953  654  719  1355  4562  12396  22553   \n",
       "4                  2642  1512   899  686  730  1330  4401  12493  21814   \n",
       "\n",
       "order_hour_of_day     9      10     11     12     13     14     15     16  \\\n",
       "order_dow                                                                   \n",
       "0                  40798  48465  51035  51443  53849  54552  53954  49463   \n",
       "1                  51908  55671  51584  47079  46728  46764  46403  44761   \n",
       "2                  36314  39230  38128  35780  36650  37173  37469  37541   \n",
       "3                  32312  36040  35215  33455  34161  34773  35990  35273   \n",
       "4                  31409  35034  33857  32249  32751  33625  34222  34093   \n",
       "\n",
       "order_hour_of_day     17     18     19     20     21     22    23  \n",
       "order_dow                                                          \n",
       "0                  39753  29572  22654  18277  14423  11246  6887  \n",
       "1                  36792  28977  22145  16281  11943   8992  5620  \n",
       "2                  32151  26470  20084  15039  10653   8146  5358  \n",
       "3                  30368  25001  19249  13795  10278   8242  5181  \n",
       "4                  29378  24425  19350  14186  10796   8812  5645  "
      ]
     },
     "execution_count": 43,
     "metadata": {},
     "output_type": "execute_result"
    }
   ],
   "source": [
    "temp_df = orders.groupby([\"order_dow\", \"order_hour_of_day\"])[\"order_number\"].aggregate(\"count\").reset_index()\n",
    "temp_df = temp_df.pivot('order_dow', 'order_hour_of_day', 'order_number')\n",
    "temp_df.head()"
   ]
  },
  {
   "cell_type": "code",
   "execution_count": 44,
   "id": "26b0d010",
   "metadata": {},
   "outputs": [
    {
     "data": {
      "text/html": [
       "<div>\n",
       "<style scoped>\n",
       "    .dataframe tbody tr th:only-of-type {\n",
       "        vertical-align: middle;\n",
       "    }\n",
       "\n",
       "    .dataframe tbody tr th {\n",
       "        vertical-align: top;\n",
       "    }\n",
       "\n",
       "    .dataframe thead th {\n",
       "        text-align: right;\n",
       "    }\n",
       "</style>\n",
       "<table border=\"1\" class=\"dataframe\">\n",
       "  <thead>\n",
       "    <tr style=\"text-align: right;\">\n",
       "      <th>order_hour_of_day</th>\n",
       "      <th>0</th>\n",
       "      <th>1</th>\n",
       "      <th>2</th>\n",
       "      <th>3</th>\n",
       "      <th>4</th>\n",
       "      <th>5</th>\n",
       "      <th>6</th>\n",
       "      <th>7</th>\n",
       "      <th>8</th>\n",
       "      <th>9</th>\n",
       "      <th>10</th>\n",
       "      <th>11</th>\n",
       "      <th>12</th>\n",
       "      <th>13</th>\n",
       "      <th>14</th>\n",
       "      <th>15</th>\n",
       "      <th>16</th>\n",
       "      <th>17</th>\n",
       "      <th>18</th>\n",
       "      <th>19</th>\n",
       "      <th>20</th>\n",
       "      <th>21</th>\n",
       "      <th>22</th>\n",
       "      <th>23</th>\n",
       "    </tr>\n",
       "    <tr>\n",
       "      <th>order_dow</th>\n",
       "      <th></th>\n",
       "      <th></th>\n",
       "      <th></th>\n",
       "      <th></th>\n",
       "      <th></th>\n",
       "      <th></th>\n",
       "      <th></th>\n",
       "      <th></th>\n",
       "      <th></th>\n",
       "      <th></th>\n",
       "      <th></th>\n",
       "      <th></th>\n",
       "      <th></th>\n",
       "      <th></th>\n",
       "      <th></th>\n",
       "      <th></th>\n",
       "      <th></th>\n",
       "      <th></th>\n",
       "      <th></th>\n",
       "      <th></th>\n",
       "      <th></th>\n",
       "      <th></th>\n",
       "      <th></th>\n",
       "      <th></th>\n",
       "    </tr>\n",
       "  </thead>\n",
       "  <tbody>\n",
       "    <tr>\n",
       "      <th>0</th>\n",
       "      <td>3936</td>\n",
       "      <td>2398</td>\n",
       "      <td>1409</td>\n",
       "      <td>963</td>\n",
       "      <td>813</td>\n",
       "      <td>1168</td>\n",
       "      <td>3329</td>\n",
       "      <td>12410</td>\n",
       "      <td>28108</td>\n",
       "      <td>40798</td>\n",
       "      <td>48465</td>\n",
       "      <td>51035</td>\n",
       "      <td>51443</td>\n",
       "      <td>53849</td>\n",
       "      <td>54552</td>\n",
       "      <td>53954</td>\n",
       "      <td>49463</td>\n",
       "      <td>39753</td>\n",
       "      <td>29572</td>\n",
       "      <td>22654</td>\n",
       "      <td>18277</td>\n",
       "      <td>14423</td>\n",
       "      <td>11246</td>\n",
       "      <td>6887</td>\n",
       "    </tr>\n",
       "    <tr>\n",
       "      <th>1</th>\n",
       "      <td>3674</td>\n",
       "      <td>1830</td>\n",
       "      <td>1105</td>\n",
       "      <td>748</td>\n",
       "      <td>809</td>\n",
       "      <td>1607</td>\n",
       "      <td>5370</td>\n",
       "      <td>16571</td>\n",
       "      <td>34116</td>\n",
       "      <td>51908</td>\n",
       "      <td>55671</td>\n",
       "      <td>51584</td>\n",
       "      <td>47079</td>\n",
       "      <td>46728</td>\n",
       "      <td>46764</td>\n",
       "      <td>46403</td>\n",
       "      <td>44761</td>\n",
       "      <td>36792</td>\n",
       "      <td>28977</td>\n",
       "      <td>22145</td>\n",
       "      <td>16281</td>\n",
       "      <td>11943</td>\n",
       "      <td>8992</td>\n",
       "      <td>5620</td>\n",
       "    </tr>\n",
       "    <tr>\n",
       "      <th>2</th>\n",
       "      <td>3059</td>\n",
       "      <td>1572</td>\n",
       "      <td>943</td>\n",
       "      <td>719</td>\n",
       "      <td>744</td>\n",
       "      <td>1399</td>\n",
       "      <td>4758</td>\n",
       "      <td>13245</td>\n",
       "      <td>24635</td>\n",
       "      <td>36314</td>\n",
       "      <td>39230</td>\n",
       "      <td>38128</td>\n",
       "      <td>35780</td>\n",
       "      <td>36650</td>\n",
       "      <td>37173</td>\n",
       "      <td>37469</td>\n",
       "      <td>37541</td>\n",
       "      <td>32151</td>\n",
       "      <td>26470</td>\n",
       "      <td>20084</td>\n",
       "      <td>15039</td>\n",
       "      <td>10653</td>\n",
       "      <td>8146</td>\n",
       "      <td>5358</td>\n",
       "    </tr>\n",
       "    <tr>\n",
       "      <th>3</th>\n",
       "      <td>2952</td>\n",
       "      <td>1495</td>\n",
       "      <td>953</td>\n",
       "      <td>654</td>\n",
       "      <td>719</td>\n",
       "      <td>1355</td>\n",
       "      <td>4562</td>\n",
       "      <td>12396</td>\n",
       "      <td>22553</td>\n",
       "      <td>32312</td>\n",
       "      <td>36040</td>\n",
       "      <td>35215</td>\n",
       "      <td>33455</td>\n",
       "      <td>34161</td>\n",
       "      <td>34773</td>\n",
       "      <td>35990</td>\n",
       "      <td>35273</td>\n",
       "      <td>30368</td>\n",
       "      <td>25001</td>\n",
       "      <td>19249</td>\n",
       "      <td>13795</td>\n",
       "      <td>10278</td>\n",
       "      <td>8242</td>\n",
       "      <td>5181</td>\n",
       "    </tr>\n",
       "    <tr>\n",
       "      <th>4</th>\n",
       "      <td>2642</td>\n",
       "      <td>1512</td>\n",
       "      <td>899</td>\n",
       "      <td>686</td>\n",
       "      <td>730</td>\n",
       "      <td>1330</td>\n",
       "      <td>4401</td>\n",
       "      <td>12493</td>\n",
       "      <td>21814</td>\n",
       "      <td>31409</td>\n",
       "      <td>35034</td>\n",
       "      <td>33857</td>\n",
       "      <td>32249</td>\n",
       "      <td>32751</td>\n",
       "      <td>33625</td>\n",
       "      <td>34222</td>\n",
       "      <td>34093</td>\n",
       "      <td>29378</td>\n",
       "      <td>24425</td>\n",
       "      <td>19350</td>\n",
       "      <td>14186</td>\n",
       "      <td>10796</td>\n",
       "      <td>8812</td>\n",
       "      <td>5645</td>\n",
       "    </tr>\n",
       "    <tr>\n",
       "      <th>5</th>\n",
       "      <td>3189</td>\n",
       "      <td>1672</td>\n",
       "      <td>1016</td>\n",
       "      <td>841</td>\n",
       "      <td>910</td>\n",
       "      <td>1574</td>\n",
       "      <td>4866</td>\n",
       "      <td>13434</td>\n",
       "      <td>24015</td>\n",
       "      <td>34232</td>\n",
       "      <td>38313</td>\n",
       "      <td>37915</td>\n",
       "      <td>35714</td>\n",
       "      <td>36296</td>\n",
       "      <td>37407</td>\n",
       "      <td>37508</td>\n",
       "      <td>35860</td>\n",
       "      <td>29955</td>\n",
       "      <td>24310</td>\n",
       "      <td>18741</td>\n",
       "      <td>13322</td>\n",
       "      <td>9515</td>\n",
       "      <td>7498</td>\n",
       "      <td>5265</td>\n",
       "    </tr>\n",
       "    <tr>\n",
       "      <th>6</th>\n",
       "      <td>3306</td>\n",
       "      <td>1919</td>\n",
       "      <td>1214</td>\n",
       "      <td>863</td>\n",
       "      <td>802</td>\n",
       "      <td>1136</td>\n",
       "      <td>3243</td>\n",
       "      <td>11319</td>\n",
       "      <td>22960</td>\n",
       "      <td>30839</td>\n",
       "      <td>35665</td>\n",
       "      <td>36994</td>\n",
       "      <td>37121</td>\n",
       "      <td>37564</td>\n",
       "      <td>38748</td>\n",
       "      <td>38093</td>\n",
       "      <td>35562</td>\n",
       "      <td>30398</td>\n",
       "      <td>24157</td>\n",
       "      <td>18346</td>\n",
       "      <td>13392</td>\n",
       "      <td>10501</td>\n",
       "      <td>8532</td>\n",
       "      <td>6087</td>\n",
       "    </tr>\n",
       "  </tbody>\n",
       "</table>\n",
       "</div>"
      ],
      "text/plain": [
       "order_hour_of_day    0     1     2    3    4     5     6      7      8   \\\n",
       "order_dow                                                                 \n",
       "0                  3936  2398  1409  963  813  1168  3329  12410  28108   \n",
       "1                  3674  1830  1105  748  809  1607  5370  16571  34116   \n",
       "2                  3059  1572   943  719  744  1399  4758  13245  24635   \n",
       "3                  2952  1495   953  654  719  1355  4562  12396  22553   \n",
       "4                  2642  1512   899  686  730  1330  4401  12493  21814   \n",
       "5                  3189  1672  1016  841  910  1574  4866  13434  24015   \n",
       "6                  3306  1919  1214  863  802  1136  3243  11319  22960   \n",
       "\n",
       "order_hour_of_day     9      10     11     12     13     14     15     16  \\\n",
       "order_dow                                                                   \n",
       "0                  40798  48465  51035  51443  53849  54552  53954  49463   \n",
       "1                  51908  55671  51584  47079  46728  46764  46403  44761   \n",
       "2                  36314  39230  38128  35780  36650  37173  37469  37541   \n",
       "3                  32312  36040  35215  33455  34161  34773  35990  35273   \n",
       "4                  31409  35034  33857  32249  32751  33625  34222  34093   \n",
       "5                  34232  38313  37915  35714  36296  37407  37508  35860   \n",
       "6                  30839  35665  36994  37121  37564  38748  38093  35562   \n",
       "\n",
       "order_hour_of_day     17     18     19     20     21     22    23  \n",
       "order_dow                                                          \n",
       "0                  39753  29572  22654  18277  14423  11246  6887  \n",
       "1                  36792  28977  22145  16281  11943   8992  5620  \n",
       "2                  32151  26470  20084  15039  10653   8146  5358  \n",
       "3                  30368  25001  19249  13795  10278   8242  5181  \n",
       "4                  29378  24425  19350  14186  10796   8812  5645  \n",
       "5                  29955  24310  18741  13322   9515   7498  5265  \n",
       "6                  30398  24157  18346  13392  10501   8532  6087  "
      ]
     },
     "execution_count": 44,
     "metadata": {},
     "output_type": "execute_result"
    }
   ],
   "source": [
    "temp_df"
   ]
  },
  {
   "cell_type": "code",
   "execution_count": 45,
   "id": "3626a0db",
   "metadata": {},
   "outputs": [
    {
     "data": {
      "image/png": "[encoded data removed]",
      "text/plain": [
       "<Figure size 720x720 with 2 Axes>"
      ]
     },
     "metadata": {},
     "output_type": "display_data"
    }
   ],
   "source": [
    "ax = plt.subplots(figsize=(10,10))\n",
    "ax = sns.heatmap(temp_df, cmap=\"YlGnBu\", linewidths=.5)\n",
    "ax.set_title(\"Frequency of Day of week Vs Hour of day\", size = 12)\n",
    "ax.set_xlabel(\"Hour of Day\", size = 10)\n",
    "ax.set_ylabel(\"Day of Week\", size = 10)\n",
    "ax.tick_params(axis = 'both', labelsize = 8)\n",
    "cbar = ax.collections[0].colorbar\n",
    "cbar.ax.tick_params(labelsize=10)\n",
    "fig = ax.get_figure()\n",
    "fig.savefig(\"Frequency of Day of week Vs Hour of day.png\")\n",
    "plt.show()"
   ]
  },
  {
   "cell_type": "code",
   "execution_count": 46,
   "id": "0b1aad37",
   "metadata": {},
   "outputs": [
    {
     "data": {
      "text/html": [
       "<div>\n",
       "<style scoped>\n",
       "    .dataframe tbody tr th:only-of-type {\n",
       "        vertical-align: middle;\n",
       "    }\n",
       "\n",
       "    .dataframe tbody tr th {\n",
       "        vertical-align: top;\n",
       "    }\n",
       "\n",
       "    .dataframe thead th {\n",
       "        text-align: right;\n",
       "    }\n",
       "</style>\n",
       "<table border=\"1\" class=\"dataframe\">\n",
       "  <thead>\n",
       "    <tr style=\"text-align: right;\">\n",
       "      <th></th>\n",
       "      <th>order_id</th>\n",
       "      <th>product_id</th>\n",
       "      <th>add_to_cart_order</th>\n",
       "      <th>reordered</th>\n",
       "    </tr>\n",
       "  </thead>\n",
       "  <tbody>\n",
       "    <tr>\n",
       "      <th>0</th>\n",
       "      <td>2</td>\n",
       "      <td>33120</td>\n",
       "      <td>1</td>\n",
       "      <td>1</td>\n",
       "    </tr>\n",
       "    <tr>\n",
       "      <th>1</th>\n",
       "      <td>2</td>\n",
       "      <td>28985</td>\n",
       "      <td>2</td>\n",
       "      <td>1</td>\n",
       "    </tr>\n",
       "    <tr>\n",
       "      <th>2</th>\n",
       "      <td>2</td>\n",
       "      <td>9327</td>\n",
       "      <td>3</td>\n",
       "      <td>0</td>\n",
       "    </tr>\n",
       "    <tr>\n",
       "      <th>3</th>\n",
       "      <td>2</td>\n",
       "      <td>45918</td>\n",
       "      <td>4</td>\n",
       "      <td>1</td>\n",
       "    </tr>\n",
       "    <tr>\n",
       "      <th>4</th>\n",
       "      <td>2</td>\n",
       "      <td>30035</td>\n",
       "      <td>5</td>\n",
       "      <td>0</td>\n",
       "    </tr>\n",
       "  </tbody>\n",
       "</table>\n",
       "</div>"
      ],
      "text/plain": [
       "   order_id  product_id  add_to_cart_order  reordered\n",
       "0         2       33120                  1          1\n",
       "1         2       28985                  2          1\n",
       "2         2        9327                  3          0\n",
       "3         2       45918                  4          1\n",
       "4         2       30035                  5          0"
      ]
     },
     "execution_count": 46,
     "metadata": {},
     "output_type": "execute_result"
    }
   ],
   "source": [
    "order_products_prior.head()"
   ]
  },
  {
   "cell_type": "code",
   "execution_count": 60,
   "id": "08ea5447",
   "metadata": {},
   "outputs": [
    {
     "data": {
      "text/plain": [
       "49677"
      ]
     },
     "execution_count": 60,
     "metadata": {},
     "output_type": "execute_result"
    }
   ],
   "source": [
    "order_products_prior['product_id'].nunique()"
   ]
  },
  {
   "cell_type": "code",
   "execution_count": 63,
   "id": "3e4d0137",
   "metadata": {},
   "outputs": [
    {
     "data": {
      "text/plain": [
       "product_id\n",
       "24852    398609\n",
       "13176    315913\n",
       "21137    205845\n",
       "21903    186884\n",
       "47209    170131\n",
       "          ...  \n",
       "42034         0\n",
       "14116         0\n",
       "30711         0\n",
       "42031         0\n",
       "10579         0\n",
       "Name: reordered, Length: 49677, dtype: int64"
      ]
     },
     "execution_count": 63,
     "metadata": {},
     "output_type": "execute_result"
    }
   ],
   "source": [
    "order_products_prior.groupby('product_id')['reordered'].sum().sort_values(ascending=False)"
   ]
  },
  {
   "cell_type": "code",
   "execution_count": 48,
   "id": "000ec98d",
   "metadata": {},
   "outputs": [
    {
     "data": {
      "text/plain": [
       "3214874"
      ]
     },
     "execution_count": 48,
     "metadata": {},
     "output_type": "execute_result"
    }
   ],
   "source": [
    "len(order_products_prior.order_id.unique())"
   ]
  },
  {
   "cell_type": "code",
   "execution_count": 49,
   "id": "22fa3195",
   "metadata": {},
   "outputs": [
    {
     "data": {
      "text/plain": [
       "1      3214874\n",
       "2      3058126\n",
       "3      2871133\n",
       "4      2664106\n",
       "5      2442025\n",
       "        ...   \n",
       "141          1\n",
       "142          1\n",
       "143          1\n",
       "144          1\n",
       "145          1\n",
       "Name: add_to_cart_order, Length: 145, dtype: int64"
      ]
     },
     "execution_count": 49,
     "metadata": {},
     "output_type": "execute_result"
    }
   ],
   "source": [
    "order_products_prior.add_to_cart_order.value_counts()"
   ]
  },
  {
   "cell_type": "code",
   "execution_count": 52,
   "id": "57c8b36c",
   "metadata": {},
   "outputs": [],
   "source": [
    "#add_to_cart_order_prior = order_products_prior.groupby('product_id')['reordered'].aggregate(\"count\").sort_values(ascending=False)\n",
    "#add_to_cart_order_prior"
   ]
  },
  {
   "cell_type": "code",
   "execution_count": 53,
   "id": "6afa4c62",
   "metadata": {},
   "outputs": [],
   "source": [
    "add_to_cart_order_prior = order_products_prior.groupby('order_id')['add_to_cart_order'].count()\n",
    "add_to_cart_order_prior = add_to_cart_order_prior.value_counts()"
   ]
  },
  {
   "cell_type": "code",
   "execution_count": 54,
   "id": "7ade0b38",
   "metadata": {},
   "outputs": [
    {
     "data": {
      "text/plain": [
       "5      228330\n",
       "6      227675\n",
       "4      222081\n",
       "7      220006\n",
       "3      207027\n",
       "        ...  \n",
       "114         1\n",
       "112         1\n",
       "94          1\n",
       "90          1\n",
       "145         1\n",
       "Name: add_to_cart_order, Length: 113, dtype: int64"
      ]
     },
     "execution_count": 54,
     "metadata": {},
     "output_type": "execute_result"
    }
   ],
   "source": [
    "add_to_cart_order_prior"
   ]
  },
  {
   "cell_type": "code",
   "execution_count": 56,
   "id": "652997a7",
   "metadata": {},
   "outputs": [
    {
     "data": {
      "text/plain": [
       "26"
      ]
     },
     "execution_count": 56,
     "metadata": {},
     "output_type": "execute_result"
    }
   ],
   "source": [
    "len(order_products_prior[order_products_prior['order_id'] == 5])"
   ]
  },
  {
   "cell_type": "code",
   "execution_count": 58,
   "id": "837f0784",
   "metadata": {},
   "outputs": [
    {
     "data": {
      "image/png": "[encoded data removed]",
      "text/plain": [
       "<Figure size 720x720 with 1 Axes>"
      ]
     },
     "metadata": {},
     "output_type": "display_data"
    }
   ],
   "source": [
    "fig, ax = plt.subplots(figsize=(10,10))\n",
    "ax = sns.barplot(x = order_products_prior.reordered.value_counts().index, \n",
    "                y = order_products_prior.reordered.value_counts().values, color = color[3])\n",
    "ax.set_xlabel('Reorder', size = 10)\n",
    "ax.set_ylabel('Count', size = 10)\n",
    "ax.tick_params(axis = 'both', labelsize = 8)\n",
    "ax.ticklabel_format(style='plain', axis='y')\n",
    "ax.set_title('Reorder Frequency in Prior Set')\n",
    "fig.savefig('Reorder Frequency in Prior Set')\n",
    "plt.show()"
   ]
  },
  {
   "cell_type": "code",
   "execution_count": 64,
   "id": "5580d929",
   "metadata": {},
   "outputs": [
    {
     "data": {
      "text/html": [
       "<div>\n",
       "<style scoped>\n",
       "    .dataframe tbody tr th:only-of-type {\n",
       "        vertical-align: middle;\n",
       "    }\n",
       "\n",
       "    .dataframe tbody tr th {\n",
       "        vertical-align: top;\n",
       "    }\n",
       "\n",
       "    .dataframe thead th {\n",
       "        text-align: right;\n",
       "    }\n",
       "</style>\n",
       "<table border=\"1\" class=\"dataframe\">\n",
       "  <thead>\n",
       "    <tr style=\"text-align: right;\">\n",
       "      <th></th>\n",
       "      <th>product_id</th>\n",
       "      <th>product_name</th>\n",
       "      <th>aisle_id</th>\n",
       "      <th>department_id</th>\n",
       "    </tr>\n",
       "  </thead>\n",
       "  <tbody>\n",
       "    <tr>\n",
       "      <th>0</th>\n",
       "      <td>1</td>\n",
       "      <td>Chocolate Sandwich Cookies</td>\n",
       "      <td>61</td>\n",
       "      <td>19</td>\n",
       "    </tr>\n",
       "    <tr>\n",
       "      <th>1</th>\n",
       "      <td>2</td>\n",
       "      <td>All-Seasons Salt</td>\n",
       "      <td>104</td>\n",
       "      <td>13</td>\n",
       "    </tr>\n",
       "    <tr>\n",
       "      <th>2</th>\n",
       "      <td>3</td>\n",
       "      <td>Robust Golden Unsweetened Oolong Tea</td>\n",
       "      <td>94</td>\n",
       "      <td>7</td>\n",
       "    </tr>\n",
       "    <tr>\n",
       "      <th>3</th>\n",
       "      <td>4</td>\n",
       "      <td>Smart Ones Classic Favorites Mini Rigatoni Wit...</td>\n",
       "      <td>38</td>\n",
       "      <td>1</td>\n",
       "    </tr>\n",
       "    <tr>\n",
       "      <th>4</th>\n",
       "      <td>5</td>\n",
       "      <td>Green Chile Anytime Sauce</td>\n",
       "      <td>5</td>\n",
       "      <td>13</td>\n",
       "    </tr>\n",
       "  </tbody>\n",
       "</table>\n",
       "</div>"
      ],
      "text/plain": [
       "   product_id                                       product_name  aisle_id  \\\n",
       "0           1                         Chocolate Sandwich Cookies        61   \n",
       "1           2                                   All-Seasons Salt       104   \n",
       "2           3               Robust Golden Unsweetened Oolong Tea        94   \n",
       "3           4  Smart Ones Classic Favorites Mini Rigatoni Wit...        38   \n",
       "4           5                          Green Chile Anytime Sauce         5   \n",
       "\n",
       "   department_id  \n",
       "0             19  \n",
       "1             13  \n",
       "2              7  \n",
       "3              1  \n",
       "4             13  "
      ]
     },
     "execution_count": 64,
     "metadata": {},
     "output_type": "execute_result"
    }
   ],
   "source": [
    "products.head()"
   ]
  },
  {
   "cell_type": "code",
   "execution_count": 66,
   "id": "4b6ced7b",
   "metadata": {},
   "outputs": [
    {
     "data": {
      "text/plain": [
       "49688"
      ]
     },
     "execution_count": 66,
     "metadata": {},
     "output_type": "execute_result"
    }
   ],
   "source": [
    "products.product_name.nunique()"
   ]
  },
  {
   "cell_type": "code",
   "execution_count": 67,
   "id": "14f78239",
   "metadata": {},
   "outputs": [
    {
     "data": {
      "text/plain": [
       "134"
      ]
     },
     "execution_count": 67,
     "metadata": {},
     "output_type": "execute_result"
    }
   ],
   "source": [
    "products.aisle_id.nunique()"
   ]
  },
  {
   "cell_type": "code",
   "execution_count": 68,
   "id": "4330335c",
   "metadata": {},
   "outputs": [
    {
     "data": {
      "image/png": "[encoded data removed]",
      "text/plain": [
       "<Figure size 1080x432 with 1 Axes>"
      ]
     },
     "metadata": {},
     "output_type": "display_data"
    }
   ],
   "source": [
    "temp_df = products.groupby('aisle_id')['product_id'].count()\n",
    "\n",
    "fig, ax = plt.subplots(figsize = (15,6))\n",
    "ax = sns.barplot(x = temp_df.index, y = temp_df.values, color = color[3])\n",
    "ax.set_xlabel('Aisle Id')\n",
    "ax.set_ylabel('Total products in aisle')\n",
    "ax.xaxis.set_tick_params(rotation=90, labelsize = 7)\n",
    "ax.set_title('Total Products in Aisle VS Aisle ID', size = 12)\n",
    "fig.savefig('Total Products in Aisle VS Aisle ID.png')"
   ]
  },
  {
   "cell_type": "code",
   "execution_count": 69,
   "id": "68385763",
   "metadata": {},
   "outputs": [
    {
     "data": {
      "text/plain": [
       "aisle_id\n",
       "100    1258\n",
       "45     1246\n",
       "37     1091\n",
       "47     1038\n",
       "120    1026\n",
       "       ... \n",
       "113      47\n",
       "82       44\n",
       "32       32\n",
       "68       26\n",
       "18       12\n",
       "Name: product_id, Length: 134, dtype: int64"
      ]
     },
     "execution_count": 69,
     "metadata": {},
     "output_type": "execute_result"
    }
   ],
   "source": [
    "products.groupby('aisle_id')['product_id'].count().sort_values(ascending=False)"
   ]
  },
  {
   "cell_type": "code",
   "execution_count": 70,
   "id": "0da76293",
   "metadata": {},
   "outputs": [
    {
     "data": {
      "image/png": "[encoded data removed]",
      "text/plain": [
       "<Figure size 576x360 with 1 Axes>"
      ]
     },
     "metadata": {},
     "output_type": "display_data"
    }
   ],
   "source": [
    "temp_df = products.groupby('department_id')['product_id'].count()\n",
    "\n",
    "fig, ax = plt.subplots(figsize = (8,5))\n",
    "ax = sns.barplot(x = temp_df.index, y = temp_df.values, color = color[2])\n",
    "ax.set_xlabel('Department Id')\n",
    "ax.set_ylabel('Total products in department')\n",
    "ax.xaxis.set_tick_params(rotation=90, labelsize = 9)\n",
    "ax.set_title('Total Products in Department VS Department ID', size = 10)\n",
    "fig.savefig('Total Products in Department VS Department ID.png')"
   ]
  },
  {
   "cell_type": "code",
   "execution_count": 71,
   "id": "269a995b",
   "metadata": {},
   "outputs": [
    {
     "data": {
      "image/png": "[encoded data removed]",
      "text/plain": [
       "<Figure size 576x360 with 1 Axes>"
      ]
     },
     "metadata": {},
     "output_type": "display_data"
    }
   ],
   "source": [
    "temp_df = products.groupby('department_id')['aisle_id'].nunique()\n",
    "\n",
    "fig, ax = plt.subplots(figsize = (8,5))\n",
    "ax = sns.barplot(x = temp_df.index, y = temp_df.values)\n",
    "ax.set_xlabel('Department Id')\n",
    "ax.set_ylabel('Total Aisles in department')\n",
    "ax.xaxis.set_tick_params(rotation=90, labelsize = 9)\n",
    "ax.set_title('Total Aisles in Department VS Department ID', size = 10)\n",
    "fig.savefig('Total Aisles in Department VS Department ID.png')"
   ]
  }
 ],
 "metadata": {
  "kernelspec": {
   "display_name": "Python 3",
   "language": "python",
   "name": "python3"
  },
  "language_info": {
   "codemirror_mode": {
    "name": "ipython",
    "version": 3
   },
   "file_extension": ".py",
   "mimetype": "text/x-python",
   "name": "python",
   "nbconvert_exporter": "python",
   "pygments_lexer": "ipython3",
   "version": "3.8.8"
  }
 },
 "nbformat": 4,
 "nbformat_minor": 5
}
